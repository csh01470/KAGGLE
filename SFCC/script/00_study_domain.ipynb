{
 "cells": [
  {
   "cell_type": "markdown",
   "metadata": {},
   "source": [
    "# PS4E8 : **Binary Prediction of Poisonous Mushrooms**"
   ]
  },
  {
   "cell_type": "markdown",
   "metadata": {},
   "source": [
    "## >> **STUDY DOMAIN**"
   ]
  },
  {
   "cell_type": "markdown",
   "metadata": {},
   "source": [
    "## 00. **REFERENCE**"
   ]
  },
  {
   "cell_type": "markdown",
   "metadata": {},
   "source": [
    "- [temp]"
   ]
  },
  {
   "cell_type": "markdown",
   "metadata": {},
   "source": [
    "<b></b>"
   ]
  },
  {
   "cell_type": "markdown",
   "metadata": {},
   "source": [
    "## 01. **DATASET SPECIFICATION**"
   ]
  },
  {
   "cell_type": "markdown",
   "metadata": {},
   "source": [
    "#### 01.1. **DATASET COLUMN SPECIFICATION**"
   ]
  },
  {
   "cell_type": "markdown",
   "metadata": {},
   "source": [
    "| Role | Name | Description | Format | Comment |\n",
    "|-|-|-|-|-|\n",
    "|feature|Dates|범죄발생시간|%Y-%m-%d %H:%M:%S|초 단위는 기록 X|\n",
    "|target|Category|범죄종류|||\n",
    "|-|Descript|범죄세부정보||not in `test`|\n",
    "|feature|DayOfWeek|범죄발생요일|||\n",
    "|feature|PdDistrict|관할경찰서|||\n",
    "|-|Resolution|범죄해결여부및상태||not in `test`|\n",
    "|feature|Address|범죄발생주소|||\n",
    "|feature|X|위도|||\n",
    "|feature|Y|경도|||\n",
    "\n",
    "- source : [datasf](https://datasf.org/opendata/)"
   ]
  }
 ],
 "metadata": {
  "language_info": {
   "name": "python"
  }
 },
 "nbformat": 4,
 "nbformat_minor": 2
}
